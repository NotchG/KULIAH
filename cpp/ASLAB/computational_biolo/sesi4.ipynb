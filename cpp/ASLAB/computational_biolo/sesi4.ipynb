{
 "cells": [
  {
   "cell_type": "code",
   "execution_count": null,
   "metadata": {},
   "outputs": [],
   "source": [
    "# Alignment\n",
    "Global Alignment: Mencari Alignment terbaik dari kedua sequence secara keseluruhan\n",
    "Local Alignment: Mencari alignment terbaik dari sequence dengan subsequence yang ada\n",
    "\n",
    "Similarity analysis: mencari skor persamaan dari kedua sequence\n",
    "\n",
    "Hamming Distance: mencari perbedaan dua sequence dengan panjang yang sama\n",
    "Levenshtein Distance: pergantian nukleotida paling sedikit untuk menyamakan kedua sequence\n",
    "dot plot: membuat matriks mukleotida dan memunculkan grafik dot plot dari nukleotida yang sama dari kedua sequence"
   ]
  },
  {
   "cell_type": "code",
   "execution_count": 1,
   "metadata": {},
   "outputs": [],
   "source": [
    "from Bio.Seq import Seq\n",
    "\n",
    "dnaA = Seq(\"CGATCGAT\")\n",
    "dnaB = Seq(\"ACGTGTAC\")"
   ]
  },
  {
   "cell_type": "code",
   "execution_count": 5,
   "metadata": {},
   "outputs": [
    {
     "name": "stdout",
     "output_type": "stream",
     "text": [
      "Alignment(seqA='-CGATCGAT--', seqB='ACG-T-G-TAC', score=5.0, start=0, end=11)\n",
      "Alignment(seqA='-CGATCG-AT-', seqB='ACG-T-GTA-C', score=5.0, start=0, end=11)\n",
      "Alignment(seqA='-CGATCG-AT', seqB='ACG-T-GTAC', score=5.0, start=0, end=10)\n",
      "-CGATCGAT--\n",
      " || | | |  \n",
      "ACG-T-G-TAC\n",
      "  Score=5\n",
      "\n",
      "-CGATCG-AT-\n",
      " || | | |  \n",
      "ACG-T-GTA-C\n",
      "  Score=5\n",
      "\n",
      "-CGATCG-AT\n",
      " || | | |.\n",
      "ACG-T-GTAC\n",
      "  Score=5\n",
      "\n"
     ]
    }
   ],
   "source": [
    "# Global Alignment\n",
    "from Bio import pairwise2\n",
    "alignments = pairwise2.align.globalxx(dnaA, dnaB)\n",
    "\n",
    "# View Possible Alignment\n",
    "for alignment in alignments:\n",
    "    print(alignment)\n",
    "\n",
    "# Format Alignment\n",
    "from Bio.pairwise2 import format_alignment\n",
    "for alignment in alignments:\n",
    "    print(format_alignment(*alignment))"
   ]
  },
  {
   "cell_type": "code",
   "execution_count": 6,
   "metadata": {},
   "outputs": [
    {
     "name": "stdout",
     "output_type": "stream",
     "text": [
      "-CGATCGAT--\n",
      " || | | |  \n",
      "ACG-T-G-TAC\n",
      "  Score=2.4\n",
      "\n"
     ]
    }
   ],
   "source": [
    "# xx -> default score\n",
    "# mx -> custom match & mismatch score\n",
    "# ms -> custom match, mismatch, gap start, and gap extend score\n",
    "\n",
    "# Custom Alignment\n",
    "# Match +1\n",
    "# Mismatch -1\n",
    "# Gap Start -0.5\n",
    "# Gap Extend - 0.1\n",
    "\n",
    "alignments = pairwise2.align.globalms(dnaA, dnaB, 1, -1, -0.5, -0.1)\n",
    "for alignment in alignments:\n",
    "    print(format_alignment(*alignment)) #5 - 2.5 - 0.1"
   ]
  },
  {
   "cell_type": "code",
   "execution_count": 7,
   "metadata": {},
   "outputs": [
    {
     "name": "stdout",
     "output_type": "stream",
     "text": [
      "Alignment(seqA='-CGATCGAT--', seqB='ACG-T-G-TAC', score=5.0, start=1, end=9)\n",
      "Alignment(seqA='-CGATCG-AT', seqB='ACG-T-GTAC', score=5.0, start=1, end=9)\n",
      "1 CGATCGAT\n",
      "  || | | |\n",
      "2 CG-T-G-T\n",
      "  Score=5\n",
      "\n",
      "1 CGATCG-A\n",
      "  || | | |\n",
      "2 CG-T-GTA\n",
      "  Score=5\n",
      "\n"
     ]
    }
   ],
   "source": [
    "# Local Alignment\n",
    "alignments = pairwise2.align.localxx(dnaA, dnaB)\n",
    "\n",
    "# View Possible Alignment\n",
    "for alignment in alignments:\n",
    "    print(alignment)\n",
    "\n",
    "# Format Alignment\n",
    "for alignment in alignments:\n",
    "    print(format_alignment(*alignment))"
   ]
  },
  {
   "cell_type": "code",
   "execution_count": 8,
   "metadata": {},
   "outputs": [],
   "source": [
    "# Hamming Distance\n",
    "def hamming(seq1, seq2):\n",
    "    h = []\n",
    "\n",
    "    for x, y in zip(seq1, seq2):\n",
    "        if(x != y):\n",
    "            h.append((x, y))\n",
    "    return len(h)"
   ]
  },
  {
   "cell_type": "code",
   "execution_count": 9,
   "metadata": {},
   "outputs": [],
   "source": [
    "dnaA = Seq(\"CGATCGAT\")\n",
    "dnaB = Seq(\"ACGTGTAC\")"
   ]
  },
  {
   "cell_type": "code",
   "execution_count": 10,
   "metadata": {},
   "outputs": [
    {
     "name": "stdout",
     "output_type": "stream",
     "text": [
      "6\n"
     ]
    }
   ],
   "source": [
    "print(hamming(dnaA, dnaB))"
   ]
  },
  {
   "cell_type": "code",
   "execution_count": 12,
   "metadata": {},
   "outputs": [
    {
     "name": "stdout",
     "output_type": "stream",
     "text": [
      "Collecting python-Levenshtein\n",
      "  Downloading python_Levenshtein-0.23.0-py3-none-any.whl (9.4 kB)\n",
      "Collecting Levenshtein==0.23.0\n",
      "  Downloading Levenshtein-0.23.0-cp37-cp37m-win_amd64.whl (101 kB)\n",
      "Collecting rapidfuzz<4.0.0,>=3.1.0\n",
      "  Downloading rapidfuzz-3.4.0-cp37-cp37m-win_amd64.whl (1.8 MB)\n",
      "Installing collected packages: rapidfuzz, Levenshtein, python-Levenshtein\n",
      "Successfully installed Levenshtein-0.23.0 python-Levenshtein-0.23.0 rapidfuzz-3.4.0\n",
      "Note: you may need to restart the kernel to use updated packages.\n"
     ]
    },
    {
     "name": "stderr",
     "output_type": "stream",
     "text": [
      "WARNING: You are using pip version 20.1.1; however, version 24.0 is available.\n",
      "You should consider upgrading via the 'c:\\Users\\Fidel\\AppData\\Local\\Programs\\Python\\Python37\\python.exe -m pip install --upgrade pip' command.\n"
     ]
    }
   ],
   "source": [
    "# Levenshtein Distance\n",
    "%pip install python-Levenshtein"
   ]
  },
  {
   "cell_type": "code",
   "execution_count": 16,
   "metadata": {},
   "outputs": [
    {
     "name": "stdout",
     "output_type": "stream",
     "text": [
      "5\n"
     ]
    }
   ],
   "source": [
    "from Levenshtein import distance\n",
    "print(distance(dnaA, dnaB))"
   ]
  },
  {
   "cell_type": "code",
   "execution_count": 15,
   "metadata": {},
   "outputs": [
    {
     "name": "stdout",
     "output_type": "stream",
     "text": [
      " |ACGTGTAC\n",
      "------------\n",
      "C| ■     ■\n",
      "G|  ■ ■   \n",
      "A|■     ■ \n",
      "T|   ■ ■  \n",
      "C| ■     ■\n",
      "G|  ■ ■   \n",
      "A|■     ■ \n",
      "T|   ■ ■  \n"
     ]
    }
   ],
   "source": [
    "# Dot Plot\n",
    "\n",
    "# Delta\n",
    "def delta(x, y):\n",
    "    if (x != y):\n",
    "        return 1\n",
    "    else:\n",
    "        return 0\n",
    "\n",
    "# M\n",
    "def M(seq1, seq2, i, j, k):\n",
    "    m = []\n",
    "\n",
    "    for x, y in zip(seq1[i:i+k], seq2[j:j+k]):\n",
    "        m.append(delta(x, y))\n",
    "    return sum(m)\n",
    "\n",
    "# makeMatrix\n",
    "def makeMatrix(seq1, seq2, k):\n",
    "    m1 = []\n",
    "    for i in range(len(seq1) - k + 1):\n",
    "        m2 = []\n",
    "        for j in range(len(seq2) - k + 1):\n",
    "            m2.append(M(seq1, seq2, i, j, k))\n",
    "        m1.append(m2)\n",
    "    return m1\n",
    "\n",
    "# plotMatrix\n",
    "def plotMatrix(M, tolerance, seq1, seq2, nonblank=chr(0x25A0), blank=' '):\n",
    "    print(' |' + seq2)\n",
    "    print('-' * (4 + len(seq2)))\n",
    "\n",
    "    for label, row in zip(seq1, M):\n",
    "        line = ''.join(nonblank if score < tolerance else blank for score in row)\n",
    "        print(label + '|' + line)\n",
    "\n",
    "# dotplot\n",
    "def dotplot(seq1, seq2, k=1, t=1):\n",
    "    Matrix = makeMatrix(seq1, seq2, k)\n",
    "    plotMatrix(Matrix, t, seq1, seq2)\n",
    "\n",
    "    \n",
    "dotplot(dnaA, dnaB)"
   ]
  }
 ],
 "metadata": {
  "kernelspec": {
   "display_name": "Python 3",
   "language": "python",
   "name": "python3"
  },
  "language_info": {
   "codemirror_mode": {
    "name": "ipython",
    "version": 3
   },
   "file_extension": ".py",
   "mimetype": "text/x-python",
   "name": "python",
   "nbconvert_exporter": "python",
   "pygments_lexer": "ipython3",
   "version": "3.7.9"
  }
 },
 "nbformat": 4,
 "nbformat_minor": 2
}
