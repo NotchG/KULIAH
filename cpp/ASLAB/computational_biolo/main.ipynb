{
 "cells": [
  {
   "cell_type": "code",
   "execution_count": 3,
   "metadata": {},
   "outputs": [],
   "source": [
    "import Bio\n",
    "from Bio.Seq import Seq"
   ]
  },
  {
   "cell_type": "code",
   "execution_count": 6,
   "metadata": {},
   "outputs": [
    {
     "name": "stdout",
     "output_type": "stream",
     "text": [
      "ATGGACGCGTGCGAT\n"
     ]
    }
   ],
   "source": [
    "DNA = Seq(\"ATGGACGCGTGCGAT\")\n",
    "print(DNA)"
   ]
  },
  {
   "cell_type": "code",
   "execution_count": 14,
   "metadata": {},
   "outputs": [
    {
     "name": "stdout",
     "output_type": "stream",
     "text": [
      "60.0\n"
     ]
    },
    {
     "name": "stderr",
     "output_type": "stream",
     "text": [
      "c:\\Users\\Fidel\\AppData\\Local\\Programs\\Python\\Python37\\lib\\site-packages\\Bio\\SeqUtils\\__init__.py:146: BiopythonDeprecationWarning: GC is deprecated; please use gc_fraction instead.\n",
      "  BiopythonDeprecationWarning,\n"
     ]
    }
   ],
   "source": [
    "#Menghitung Persentase GC dan AT dalam DNA : built-in dan user-defined\n",
    "# Persentase GC dapat memengaruhi melting temperature DNA\n",
    "\n",
    "# Built In\n",
    "from Bio.SeqUtils import GC\n",
    "\n",
    "persentase_gc = GC(DNA)\n",
    "persentase_at = 100 - persentase_gc\n",
    "\n",
    "print(persentase_gc)"
   ]
  },
  {
   "cell_type": "code",
   "execution_count": 10,
   "metadata": {},
   "outputs": [
    {
     "name": "stdout",
     "output_type": "stream",
     "text": [
      "60.0\n"
     ]
    }
   ],
   "source": [
    "# User Defined\n",
    "\n",
    "def GC_Counter(seq):\n",
    "    gc = []\n",
    "\n",
    "    for x in seq:\n",
    "        if x == \"G\" or x == \"C\":\n",
    "            gc.append(x)\n",
    "    return len(gc)/len(seq)*100\n",
    "\n",
    "\n",
    "# List Comprehension\n",
    "\n",
    "def GC_Counter2(seq):\n",
    "    gc = [x for x in seq if x in \"GC\"]\n",
    "    return len(gc)/len(seq)*100\n",
    "\n",
    "print(GC_Counter2(DNA))"
   ]
  },
  {
   "cell_type": "code",
   "execution_count": 15,
   "metadata": {},
   "outputs": [
    {
     "data": {
      "image/png": "[encoded data removed]",
      "text/plain": [
       "<Figure size 640x480 with 1 Axes>"
      ]
     },
     "metadata": {},
     "output_type": "display_data"
    }
   ],
   "source": [
    "import matplotlib.pyplot as plt\n",
    "\n",
    "plt.pie(x=[persentase_gc, persentase_at], labels=[persentase_gc, persentase_at])\n",
    "plt.legend([\"GC\", \"AT\"])\n",
    "plt.show()"
   ]
  },
  {
   "cell_type": "code",
   "execution_count": 16,
   "metadata": {},
   "outputs": [
    {
     "name": "stdout",
     "output_type": "stream",
     "text": [
      "44.5029020719779\n",
      "50.346125847238625\n",
      "48.0\n"
     ]
    }
   ],
   "source": [
    "# Melting point DNA\n",
    "# built in\n",
    "# user defined\n",
    "\n",
    "from Bio.SeqUtils import MeltingTemp as mt\n",
    "\n",
    "print(mt.Tm_GC(DNA)) # based on GC Composition of DNA\n",
    "print(mt.Tm_NN(DNA)) # based on nearest neighbor thermodynamics\n",
    "print(mt.Tm_Wallace(DNA)) # rule of thumb / pegangan"
   ]
  },
  {
   "cell_type": "code",
   "execution_count": 17,
   "metadata": {},
   "outputs": [
    {
     "name": "stdout",
     "output_type": "stream",
     "text": [
      "44.67\n"
     ]
    }
   ],
   "source": [
    "# Custom Wallace\n",
    "\n",
    "def Custom_Wallace(seq):\n",
    "    jumlahA = seq.count(\"A\")\n",
    "    jumlahG = seq.count(\"G\")\n",
    "    jumlahT = seq.count(\"T\")\n",
    "    jumlahC = seq.count(\"C\")\n",
    "\n",
    "    if (len(seq) < 14):\n",
    "        return (jumlahA + jumlahT) * 2 + (jumlahG + jumlahC) * 4\n",
    "    else:\n",
    "        return round(64.9 + 41 * (jumlahG + jumlahC - 16.4) / (jumlahA + jumlahT + jumlahG + jumlahC), 2)\n",
    "    \n",
    "print(Custom_Wallace(DNA))"
   ]
  },
  {
   "cell_type": "code",
   "execution_count": 18,
   "metadata": {},
   "outputs": [
    {
     "name": "stdout",
     "output_type": "stream",
     "text": [
      "4712.995199999999\n"
     ]
    }
   ],
   "source": [
    "# molecular weight of a DNA\n",
    "# molecular weight of each nucleotide\n",
    "\n",
    "from Bio.SeqUtils import molecular_weight as mw\n",
    "\n",
    "print(mw(DNA))"
   ]
  },
  {
   "cell_type": "code",
   "execution_count": 19,
   "metadata": {},
   "outputs": [
    {
     "name": "stdout",
     "output_type": "stream",
     "text": [
      "2860.7960999999996\n"
     ]
    }
   ],
   "source": [
    "# Buat function yang dapat mengelompokkan nucleotida2 menjadi sebuah string masing masing\n",
    "\n",
    "def nucleotide_string(seq, nucleotide):\n",
    "    n = [x for x in seq if x in nucleotide]\n",
    "    n_string = \"\".join(n)\n",
    "    return n_string\n",
    "\n",
    "print(mw(nucleotide_string(DNA, \"GC\")))"
   ]
  }
 ],
 "metadata": {
  "kernelspec": {
   "display_name": "base",
   "language": "python",
   "name": "python3"
  },
  "language_info": {
   "codemirror_mode": {
    "name": "ipython",
    "version": 3
   },
   "file_extension": ".py",
   "mimetype": "text/x-python",
   "name": "python",
   "nbconvert_exporter": "python",
   "pygments_lexer": "ipython3",
   "version": "3.7.9"
  }
 },
 "nbformat": 4,
 "nbformat_minor": 2
}
